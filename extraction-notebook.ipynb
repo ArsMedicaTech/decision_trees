{
 "cells": [
  {
   "cell_type": "code",
   "execution_count": 1,
   "id": "4441f298-b1d6-475d-9b05-9dd0b2c34ae2",
   "metadata": {},
   "outputs": [
    {
     "name": "stdout",
     "output_type": "stream",
     "text": [
      "Hello world\n"
     ]
    }
   ],
   "source": [
    "print(\"Hello world\")"
   ]
  },
  {
   "cell_type": "code",
   "execution_count": 15,
   "id": "ab024715-751a-4936-8c9a-357c85548055",
   "metadata": {},
   "outputs": [
    {
     "name": "stdout",
     "output_type": "stream",
     "text": [
      "Requirement already satisfied: accelerate==0.24.1 in /home/ec2-user/anaconda3/envs/python3/lib/python3.10/site-packages (from -r extraction/requirements.txt (line 1)) (0.24.1)\n",
      "Requirement already satisfied: beautifulsoup4==4.13.4 in /home/ec2-user/anaconda3/envs/python3/lib/python3.10/site-packages (from -r extraction/requirements.txt (line 2)) (4.13.4)\n",
      "Requirement already satisfied: bitsandbytes==0.46.1 in /home/ec2-user/anaconda3/envs/python3/lib/python3.10/site-packages (from -r extraction/requirements.txt (line 3)) (0.46.1)\n",
      "Requirement already satisfied: bs4==0.0.2 in /home/ec2-user/anaconda3/envs/python3/lib/python3.10/site-packages (from -r extraction/requirements.txt (line 4)) (0.0.2)\n",
      "Requirement already satisfied: certifi==2025.8.3 in /home/ec2-user/anaconda3/envs/python3/lib/python3.10/site-packages (from -r extraction/requirements.txt (line 5)) (2025.8.3)\n",
      "Requirement already satisfied: charset-normalizer==3.4.3 in /home/ec2-user/anaconda3/envs/python3/lib/python3.10/site-packages (from -r extraction/requirements.txt (line 6)) (3.4.3)\n",
      "Requirement already satisfied: colorama==0.4.6 in /home/ec2-user/anaconda3/envs/python3/lib/python3.10/site-packages (from -r extraction/requirements.txt (line 7)) (0.4.6)\n",
      "Requirement already satisfied: docutils<0.22,>=0.20 in /home/ec2-user/anaconda3/envs/python3/lib/python3.10/site-packages (from -r extraction/requirements.txt (line 8)) (0.21.2)\n",
      "Requirement already satisfied: filelock==3.18.0 in /home/ec2-user/anaconda3/envs/python3/lib/python3.10/site-packages (from -r extraction/requirements.txt (line 9)) (3.18.0)\n",
      "Requirement already satisfied: fsspec==2025.7.0 in /home/ec2-user/anaconda3/envs/python3/lib/python3.10/site-packages (from -r extraction/requirements.txt (line 10)) (2025.7.0)\n",
      "Requirement already satisfied: httpx>=0.25.0 in /home/ec2-user/anaconda3/envs/python3/lib/python3.10/site-packages (from -r extraction/requirements.txt (line 11)) (0.28.1)\n",
      "Requirement already satisfied: huggingface-hub==0.34.4 in /home/ec2-user/anaconda3/envs/python3/lib/python3.10/site-packages (from -r extraction/requirements.txt (line 12)) (0.34.4)\n",
      "Requirement already satisfied: idna==3.10 in /home/ec2-user/anaconda3/envs/python3/lib/python3.10/site-packages (from -r extraction/requirements.txt (line 13)) (3.10)\n",
      "Requirement already satisfied: Jinja2==3.1.6 in /home/ec2-user/anaconda3/envs/python3/lib/python3.10/site-packages (from -r extraction/requirements.txt (line 14)) (3.1.6)\n",
      "Requirement already satisfied: lark==1.2.2 in /home/ec2-user/anaconda3/envs/python3/lib/python3.10/site-packages (from -r extraction/requirements.txt (line 15)) (1.2.2)\n",
      "Requirement already satisfied: MarkupSafe==3.0.2 in /home/ec2-user/anaconda3/envs/python3/lib/python3.10/site-packages (from -r extraction/requirements.txt (line 16)) (3.0.2)\n",
      "Requirement already satisfied: mpmath==1.3.0 in /home/ec2-user/anaconda3/envs/python3/lib/python3.10/site-packages (from -r extraction/requirements.txt (line 17)) (1.3.0)\n",
      "Requirement already satisfied: networkx==3.4.2 in /home/ec2-user/anaconda3/envs/python3/lib/python3.10/site-packages (from -r extraction/requirements.txt (line 18)) (3.4.2)\n",
      "Requirement already satisfied: numpy==1.26.4 in /home/ec2-user/anaconda3/envs/python3/lib/python3.10/site-packages (from -r extraction/requirements.txt (line 19)) (1.26.4)\n",
      "Requirement already satisfied: packaging<25 in /home/ec2-user/anaconda3/envs/python3/lib/python3.10/site-packages (from -r extraction/requirements.txt (line 20)) (24.2)\n",
      "Requirement already satisfied: pandas<2.0.0 in /home/ec2-user/anaconda3/envs/python3/lib/python3.10/site-packages (from -r extraction/requirements.txt (line 21)) (1.5.3)\n",
      "Requirement already satisfied: psutil==7.0.0 in /home/ec2-user/anaconda3/envs/python3/lib/python3.10/site-packages (from -r extraction/requirements.txt (line 22)) (7.0.0)\n",
      "Requirement already satisfied: PyYAML==6.0.2 in /home/ec2-user/anaconda3/envs/python3/lib/python3.10/site-packages (from -r extraction/requirements.txt (line 23)) (6.0.2)\n",
      "Requirement already satisfied: regex==2025.7.34 in /home/ec2-user/anaconda3/envs/python3/lib/python3.10/site-packages (from -r extraction/requirements.txt (line 24)) (2025.7.34)\n",
      "Requirement already satisfied: requests==2.32.4 in /home/ec2-user/anaconda3/envs/python3/lib/python3.10/site-packages (from -r extraction/requirements.txt (line 25)) (2.32.4)\n",
      "Requirement already satisfied: safetensors==0.6.2 in /home/ec2-user/anaconda3/envs/python3/lib/python3.10/site-packages (from -r extraction/requirements.txt (line 26)) (0.6.2)\n",
      "Requirement already satisfied: sentencepiece==0.2.0 in /home/ec2-user/anaconda3/envs/python3/lib/python3.10/site-packages (from -r extraction/requirements.txt (line 27)) (0.2.0)\n",
      "Requirement already satisfied: soupsieve==2.7 in /home/ec2-user/anaconda3/envs/python3/lib/python3.10/site-packages (from -r extraction/requirements.txt (line 28)) (2.7)\n",
      "Requirement already satisfied: sympy==1.13.1 in /home/ec2-user/anaconda3/envs/python3/lib/python3.10/site-packages (from -r extraction/requirements.txt (line 29)) (1.13.1)\n",
      "Requirement already satisfied: tokenizers==0.15.2 in /home/ec2-user/anaconda3/envs/python3/lib/python3.10/site-packages (from -r extraction/requirements.txt (line 30)) (0.15.2)\n",
      "Requirement already satisfied: torch==2.6.0 in /home/ec2-user/anaconda3/envs/python3/lib/python3.10/site-packages (from -r extraction/requirements.txt (line 31)) (2.6.0)\n",
      "Requirement already satisfied: tqdm==4.67.1 in /home/ec2-user/anaconda3/envs/python3/lib/python3.10/site-packages (from -r extraction/requirements.txt (line 32)) (4.67.1)\n",
      "Requirement already satisfied: transformers==4.35.2 in /home/ec2-user/anaconda3/envs/python3/lib/python3.10/site-packages (from -r extraction/requirements.txt (line 33)) (4.35.2)\n",
      "Requirement already satisfied: typing_extensions==4.14.1 in /home/ec2-user/anaconda3/envs/python3/lib/python3.10/site-packages (from -r extraction/requirements.txt (line 34)) (4.14.1)\n",
      "Requirement already satisfied: urllib3==2.5.0 in /home/ec2-user/anaconda3/envs/python3/lib/python3.10/site-packages (from -r extraction/requirements.txt (line 35)) (2.5.0)\n",
      "Requirement already satisfied: nvidia-cuda-nvrtc-cu12==12.4.127 in /home/ec2-user/anaconda3/envs/python3/lib/python3.10/site-packages (from torch==2.6.0->-r extraction/requirements.txt (line 31)) (12.4.127)\n",
      "Requirement already satisfied: nvidia-cuda-runtime-cu12==12.4.127 in /home/ec2-user/anaconda3/envs/python3/lib/python3.10/site-packages (from torch==2.6.0->-r extraction/requirements.txt (line 31)) (12.4.127)\n",
      "Requirement already satisfied: nvidia-cuda-cupti-cu12==12.4.127 in /home/ec2-user/anaconda3/envs/python3/lib/python3.10/site-packages (from torch==2.6.0->-r extraction/requirements.txt (line 31)) (12.4.127)\n",
      "Requirement already satisfied: nvidia-cudnn-cu12==9.1.0.70 in /home/ec2-user/anaconda3/envs/python3/lib/python3.10/site-packages (from torch==2.6.0->-r extraction/requirements.txt (line 31)) (9.1.0.70)\n",
      "Requirement already satisfied: nvidia-cublas-cu12==12.4.5.8 in /home/ec2-user/anaconda3/envs/python3/lib/python3.10/site-packages (from torch==2.6.0->-r extraction/requirements.txt (line 31)) (12.4.5.8)\n",
      "Requirement already satisfied: nvidia-cufft-cu12==11.2.1.3 in /home/ec2-user/anaconda3/envs/python3/lib/python3.10/site-packages (from torch==2.6.0->-r extraction/requirements.txt (line 31)) (11.2.1.3)\n",
      "Requirement already satisfied: nvidia-curand-cu12==10.3.5.147 in /home/ec2-user/anaconda3/envs/python3/lib/python3.10/site-packages (from torch==2.6.0->-r extraction/requirements.txt (line 31)) (10.3.5.147)\n",
      "Requirement already satisfied: nvidia-cusolver-cu12==11.6.1.9 in /home/ec2-user/anaconda3/envs/python3/lib/python3.10/site-packages (from torch==2.6.0->-r extraction/requirements.txt (line 31)) (11.6.1.9)\n",
      "Requirement already satisfied: nvidia-cusparse-cu12==12.3.1.170 in /home/ec2-user/anaconda3/envs/python3/lib/python3.10/site-packages (from torch==2.6.0->-r extraction/requirements.txt (line 31)) (12.3.1.170)\n",
      "Requirement already satisfied: nvidia-cusparselt-cu12==0.6.2 in /home/ec2-user/anaconda3/envs/python3/lib/python3.10/site-packages (from torch==2.6.0->-r extraction/requirements.txt (line 31)) (0.6.2)\n",
      "Requirement already satisfied: nvidia-nccl-cu12==2.21.5 in /home/ec2-user/anaconda3/envs/python3/lib/python3.10/site-packages (from torch==2.6.0->-r extraction/requirements.txt (line 31)) (2.21.5)\n",
      "Requirement already satisfied: nvidia-nvtx-cu12==12.4.127 in /home/ec2-user/anaconda3/envs/python3/lib/python3.10/site-packages (from torch==2.6.0->-r extraction/requirements.txt (line 31)) (12.4.127)\n",
      "Requirement already satisfied: nvidia-nvjitlink-cu12==12.4.127 in /home/ec2-user/anaconda3/envs/python3/lib/python3.10/site-packages (from torch==2.6.0->-r extraction/requirements.txt (line 31)) (12.4.127)\n",
      "Requirement already satisfied: triton==3.2.0 in /home/ec2-user/anaconda3/envs/python3/lib/python3.10/site-packages (from torch==2.6.0->-r extraction/requirements.txt (line 31)) (3.2.0)\n",
      "Requirement already satisfied: hf-xet<2.0.0,>=1.1.3 in /home/ec2-user/anaconda3/envs/python3/lib/python3.10/site-packages (from huggingface-hub==0.34.4->-r extraction/requirements.txt (line 12)) (1.1.7)\n",
      "Requirement already satisfied: python-dateutil>=2.8.1 in /home/ec2-user/anaconda3/envs/python3/lib/python3.10/site-packages (from pandas<2.0.0->-r extraction/requirements.txt (line 21)) (2.9.0.post0)\n",
      "Requirement already satisfied: pytz>=2020.1 in /home/ec2-user/anaconda3/envs/python3/lib/python3.10/site-packages (from pandas<2.0.0->-r extraction/requirements.txt (line 21)) (2024.1)\n",
      "Requirement already satisfied: anyio in /home/ec2-user/anaconda3/envs/python3/lib/python3.10/site-packages (from httpx>=0.25.0->-r extraction/requirements.txt (line 11)) (4.9.0)\n",
      "Requirement already satisfied: httpcore==1.* in /home/ec2-user/anaconda3/envs/python3/lib/python3.10/site-packages (from httpx>=0.25.0->-r extraction/requirements.txt (line 11)) (1.0.9)\n",
      "Requirement already satisfied: h11>=0.16 in /home/ec2-user/anaconda3/envs/python3/lib/python3.10/site-packages (from httpcore==1.*->httpx>=0.25.0->-r extraction/requirements.txt (line 11)) (0.16.0)\n",
      "Requirement already satisfied: six>=1.5 in /home/ec2-user/anaconda3/envs/python3/lib/python3.10/site-packages (from python-dateutil>=2.8.1->pandas<2.0.0->-r extraction/requirements.txt (line 21)) (1.17.0)\n",
      "Requirement already satisfied: exceptiongroup>=1.0.2 in /home/ec2-user/anaconda3/envs/python3/lib/python3.10/site-packages (from anyio->httpx>=0.25.0->-r extraction/requirements.txt (line 11)) (1.3.0)\n",
      "Requirement already satisfied: sniffio>=1.1 in /home/ec2-user/anaconda3/envs/python3/lib/python3.10/site-packages (from anyio->httpx>=0.25.0->-r extraction/requirements.txt (line 11)) (1.3.1)\n"
     ]
    }
   ],
   "source": [
    "import sys\n",
    "!{sys.executable} -m pip install -r extraction/requirements.txt"
   ]
  },
  {
   "cell_type": "code",
   "execution_count": 16,
   "id": "e7436f44-24a6-4175-a2e8-55b06daadd3f",
   "metadata": {},
   "outputs": [],
   "source": [
    "import torch"
   ]
  },
  {
   "cell_type": "code",
   "execution_count": 17,
   "id": "24120a31-19d7-4369-a884-428409b48f05",
   "metadata": {},
   "outputs": [
    {
     "name": "stdout",
     "output_type": "stream",
     "text": [
      "2.6.0+cu124\n"
     ]
    }
   ],
   "source": [
    "print(torch.__version__)"
   ]
  },
  {
   "cell_type": "code",
   "execution_count": null,
   "id": "be9a9a7e-f20c-4afc-9cb4-4e83a82bdde3",
   "metadata": {},
   "outputs": [],
   "source": []
  }
 ],
 "metadata": {
  "kernelspec": {
   "display_name": "conda_python3",
   "language": "python",
   "name": "conda_python3"
  },
  "language_info": {
   "codemirror_mode": {
    "name": "ipython",
    "version": 3
   },
   "file_extension": ".py",
   "mimetype": "text/x-python",
   "name": "python",
   "nbconvert_exporter": "python",
   "pygments_lexer": "ipython3",
   "version": "3.10.18"
  }
 },
 "nbformat": 4,
 "nbformat_minor": 5
}
