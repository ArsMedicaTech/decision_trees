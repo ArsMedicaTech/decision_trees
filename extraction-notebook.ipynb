{
 "cells": [
  {
   "cell_type": "code",
   "execution_count": 1,
   "id": "4441f298-b1d6-475d-9b05-9dd0b2c34ae2",
   "metadata": {},
   "outputs": [
    {
     "name": "stdout",
     "output_type": "stream",
     "text": [
      "Hello world\n"
     ]
    }
   ],
   "source": [
    "print(\"Hello world\")"
   ]
  },
  {
   "cell_type": "code",
   "execution_count": 2,
   "id": "ab024715-751a-4936-8c9a-357c85548055",
   "metadata": {},
   "outputs": [
    {
     "name": "stdout",
     "output_type": "stream",
     "text": [
      "Collecting accelerate==0.24.1 (from -r extraction/requirements.txt (line 1))\n",
      "  Downloading accelerate-0.24.1-py3-none-any.whl.metadata (18 kB)\n",
      "Requirement already satisfied: beautifulsoup4==4.13.4 in /home/ec2-user/anaconda3/envs/python3/lib/python3.10/site-packages (from -r extraction/requirements.txt (line 2)) (4.13.4)\n",
      "Collecting bitsandbytes==0.46.1 (from -r extraction/requirements.txt (line 3))\n",
      "  Downloading bitsandbytes-0.46.1-py3-none-manylinux_2_24_x86_64.whl.metadata (10 kB)\n",
      "Collecting bs4==0.0.2 (from -r extraction/requirements.txt (line 4))\n",
      "  Downloading bs4-0.0.2-py2.py3-none-any.whl.metadata (411 bytes)\n",
      "Requirement already satisfied: certifi==2025.8.3 in /home/ec2-user/anaconda3/envs/python3/lib/python3.10/site-packages (from -r extraction/requirements.txt (line 5)) (2025.8.3)\n",
      "Collecting charset-normalizer==3.4.3 (from -r extraction/requirements.txt (line 6))\n",
      "  Using cached charset_normalizer-3.4.3-cp310-cp310-manylinux2014_x86_64.manylinux_2_17_x86_64.manylinux_2_28_x86_64.whl.metadata (36 kB)\n",
      "Requirement already satisfied: colorama==0.4.6 in /home/ec2-user/anaconda3/envs/python3/lib/python3.10/site-packages (from -r extraction/requirements.txt (line 7)) (0.4.6)\n",
      "Requirement already satisfied: docutils<=0.19 in /home/ec2-user/anaconda3/envs/python3/lib/python3.10/site-packages (from -r extraction/requirements.txt (line 8)) (0.19)\n",
      "Collecting filelock==3.18.0 (from -r extraction/requirements.txt (line 9))\n",
      "  Downloading filelock-3.18.0-py3-none-any.whl.metadata (2.9 kB)\n",
      "Requirement already satisfied: fsspec==2025.7.0 in /home/ec2-user/anaconda3/envs/python3/lib/python3.10/site-packages (from -r extraction/requirements.txt (line 10)) (2025.7.0)\n",
      "Collecting httpx>=0.25.0 (from -r extraction/requirements.txt (line 11))\n",
      "  Using cached httpx-0.28.1-py3-none-any.whl.metadata (7.1 kB)\n",
      "Collecting huggingface-hub==0.34.4 (from -r extraction/requirements.txt (line 12))\n",
      "  Downloading huggingface_hub-0.34.4-py3-none-any.whl.metadata (14 kB)\n",
      "Requirement already satisfied: idna==3.10 in /home/ec2-user/anaconda3/envs/python3/lib/python3.10/site-packages (from -r extraction/requirements.txt (line 13)) (3.10)\n",
      "Requirement already satisfied: Jinja2==3.1.6 in /home/ec2-user/anaconda3/envs/python3/lib/python3.10/site-packages (from -r extraction/requirements.txt (line 14)) (3.1.6)\n",
      "Requirement already satisfied: lark==1.2.2 in /home/ec2-user/anaconda3/envs/python3/lib/python3.10/site-packages (from -r extraction/requirements.txt (line 15)) (1.2.2)\n",
      "Requirement already satisfied: MarkupSafe==3.0.2 in /home/ec2-user/anaconda3/envs/python3/lib/python3.10/site-packages (from -r extraction/requirements.txt (line 16)) (3.0.2)\n",
      "Requirement already satisfied: mpmath==1.3.0 in /home/ec2-user/anaconda3/envs/python3/lib/python3.10/site-packages (from -r extraction/requirements.txt (line 17)) (1.3.0)\n",
      "Requirement already satisfied: networkx==3.4.2 in /home/ec2-user/anaconda3/envs/python3/lib/python3.10/site-packages (from -r extraction/requirements.txt (line 18)) (3.4.2)\n",
      "Requirement already satisfied: numpy==1.26.4 in /home/ec2-user/anaconda3/envs/python3/lib/python3.10/site-packages (from -r extraction/requirements.txt (line 19)) (1.26.4)\n",
      "Requirement already satisfied: packaging<25 in /home/ec2-user/anaconda3/envs/python3/lib/python3.10/site-packages (from -r extraction/requirements.txt (line 20)) (24.2)\n",
      "Collecting pandas<2.0.0 (from -r extraction/requirements.txt (line 21))\n",
      "  Downloading pandas-1.5.3-cp310-cp310-manylinux_2_17_x86_64.manylinux2014_x86_64.whl.metadata (11 kB)\n",
      "Collecting psutil==7.0.0 (from -r extraction/requirements.txt (line 22))\n",
      "  Using cached psutil-7.0.0-cp36-abi3-manylinux_2_12_x86_64.manylinux2010_x86_64.manylinux_2_17_x86_64.manylinux2014_x86_64.whl.metadata (22 kB)\n",
      "Requirement already satisfied: PyYAML==6.0.2 in /home/ec2-user/anaconda3/envs/python3/lib/python3.10/site-packages (from -r extraction/requirements.txt (line 23)) (6.0.2)\n",
      "Requirement already satisfied: regex==2025.7.34 in /home/ec2-user/anaconda3/envs/python3/lib/python3.10/site-packages (from -r extraction/requirements.txt (line 24)) (2025.7.34)\n",
      "Requirement already satisfied: requests==2.32.4 in /home/ec2-user/anaconda3/envs/python3/lib/python3.10/site-packages (from -r extraction/requirements.txt (line 25)) (2.32.4)\n",
      "Collecting safetensors==0.6.2 (from -r extraction/requirements.txt (line 26))\n",
      "  Downloading safetensors-0.6.2-cp38-abi3-manylinux_2_17_x86_64.manylinux2014_x86_64.whl.metadata (4.1 kB)\n",
      "Collecting sentencepiece==0.2.0 (from -r extraction/requirements.txt (line 27))\n",
      "  Downloading sentencepiece-0.2.0-cp310-cp310-manylinux_2_17_x86_64.manylinux2014_x86_64.whl.metadata (7.7 kB)\n",
      "Requirement already satisfied: soupsieve==2.7 in /home/ec2-user/anaconda3/envs/python3/lib/python3.10/site-packages (from -r extraction/requirements.txt (line 28)) (2.7)\n",
      "Collecting sympy==1.13.1 (from -r extraction/requirements.txt (line 29))\n",
      "  Downloading sympy-1.13.1-py3-none-any.whl.metadata (12 kB)\n",
      "Collecting tokenizers==0.15.2 (from -r extraction/requirements.txt (line 30))\n",
      "  Downloading tokenizers-0.15.2-cp310-cp310-manylinux_2_17_x86_64.manylinux2014_x86_64.whl.metadata (6.7 kB)\n",
      "Collecting torch==2.6.0 (from -r extraction/requirements.txt (line 31))\n",
      "  Downloading torch-2.6.0-cp310-cp310-manylinux1_x86_64.whl.metadata (28 kB)\n",
      "Requirement already satisfied: tqdm==4.67.1 in /home/ec2-user/anaconda3/envs/python3/lib/python3.10/site-packages (from -r extraction/requirements.txt (line 32)) (4.67.1)\n",
      "Collecting transformers==4.35.2 (from -r extraction/requirements.txt (line 33))\n",
      "  Downloading transformers-4.35.2-py3-none-any.whl.metadata (123 kB)\n",
      "Requirement already satisfied: typing_extensions==4.14.1 in /home/ec2-user/anaconda3/envs/python3/lib/python3.10/site-packages (from -r extraction/requirements.txt (line 34)) (4.14.1)\n",
      "Requirement already satisfied: urllib3==2.5.0 in /home/ec2-user/anaconda3/envs/python3/lib/python3.10/site-packages (from -r extraction/requirements.txt (line 35)) (2.5.0)\n",
      "Collecting nvidia-cuda-nvrtc-cu12==12.4.127 (from torch==2.6.0->-r extraction/requirements.txt (line 31))\n",
      "  Downloading nvidia_cuda_nvrtc_cu12-12.4.127-py3-none-manylinux2014_x86_64.whl.metadata (1.5 kB)\n",
      "Collecting nvidia-cuda-runtime-cu12==12.4.127 (from torch==2.6.0->-r extraction/requirements.txt (line 31))\n",
      "  Downloading nvidia_cuda_runtime_cu12-12.4.127-py3-none-manylinux2014_x86_64.whl.metadata (1.5 kB)\n",
      "Collecting nvidia-cuda-cupti-cu12==12.4.127 (from torch==2.6.0->-r extraction/requirements.txt (line 31))\n",
      "  Downloading nvidia_cuda_cupti_cu12-12.4.127-py3-none-manylinux2014_x86_64.whl.metadata (1.6 kB)\n",
      "Collecting nvidia-cudnn-cu12==9.1.0.70 (from torch==2.6.0->-r extraction/requirements.txt (line 31))\n",
      "  Downloading nvidia_cudnn_cu12-9.1.0.70-py3-none-manylinux2014_x86_64.whl.metadata (1.6 kB)\n",
      "Collecting nvidia-cublas-cu12==12.4.5.8 (from torch==2.6.0->-r extraction/requirements.txt (line 31))\n",
      "  Downloading nvidia_cublas_cu12-12.4.5.8-py3-none-manylinux2014_x86_64.whl.metadata (1.5 kB)\n",
      "Collecting nvidia-cufft-cu12==11.2.1.3 (from torch==2.6.0->-r extraction/requirements.txt (line 31))\n",
      "  Downloading nvidia_cufft_cu12-11.2.1.3-py3-none-manylinux2014_x86_64.whl.metadata (1.5 kB)\n",
      "Collecting nvidia-curand-cu12==10.3.5.147 (from torch==2.6.0->-r extraction/requirements.txt (line 31))\n",
      "  Downloading nvidia_curand_cu12-10.3.5.147-py3-none-manylinux2014_x86_64.whl.metadata (1.5 kB)\n",
      "Collecting nvidia-cusolver-cu12==11.6.1.9 (from torch==2.6.0->-r extraction/requirements.txt (line 31))\n",
      "  Downloading nvidia_cusolver_cu12-11.6.1.9-py3-none-manylinux2014_x86_64.whl.metadata (1.6 kB)\n",
      "Collecting nvidia-cusparse-cu12==12.3.1.170 (from torch==2.6.0->-r extraction/requirements.txt (line 31))\n",
      "  Downloading nvidia_cusparse_cu12-12.3.1.170-py3-none-manylinux2014_x86_64.whl.metadata (1.6 kB)\n",
      "Collecting nvidia-cusparselt-cu12==0.6.2 (from torch==2.6.0->-r extraction/requirements.txt (line 31))\n",
      "  Downloading nvidia_cusparselt_cu12-0.6.2-py3-none-manylinux2014_x86_64.whl.metadata (6.8 kB)\n",
      "Collecting nvidia-nccl-cu12==2.21.5 (from torch==2.6.0->-r extraction/requirements.txt (line 31))\n",
      "  Downloading nvidia_nccl_cu12-2.21.5-py3-none-manylinux2014_x86_64.whl.metadata (1.8 kB)\n",
      "Collecting nvidia-nvtx-cu12==12.4.127 (from torch==2.6.0->-r extraction/requirements.txt (line 31))\n",
      "  Downloading nvidia_nvtx_cu12-12.4.127-py3-none-manylinux2014_x86_64.whl.metadata (1.7 kB)\n",
      "Collecting nvidia-nvjitlink-cu12==12.4.127 (from torch==2.6.0->-r extraction/requirements.txt (line 31))\n",
      "  Downloading nvidia_nvjitlink_cu12-12.4.127-py3-none-manylinux2014_x86_64.whl.metadata (1.5 kB)\n",
      "Collecting triton==3.2.0 (from torch==2.6.0->-r extraction/requirements.txt (line 31))\n",
      "  Downloading triton-3.2.0-cp310-cp310-manylinux_2_17_x86_64.manylinux2014_x86_64.whl.metadata (1.4 kB)\n",
      "Collecting hf-xet<2.0.0,>=1.1.3 (from huggingface-hub==0.34.4->-r extraction/requirements.txt (line 12))\n",
      "  Downloading hf_xet-1.1.8-cp37-abi3-manylinux_2_17_x86_64.manylinux2014_x86_64.whl.metadata (703 bytes)\n",
      "Requirement already satisfied: python-dateutil>=2.8.1 in /home/ec2-user/anaconda3/envs/python3/lib/python3.10/site-packages (from pandas<2.0.0->-r extraction/requirements.txt (line 21)) (2.9.0.post0)\n",
      "Requirement already satisfied: pytz>=2020.1 in /home/ec2-user/anaconda3/envs/python3/lib/python3.10/site-packages (from pandas<2.0.0->-r extraction/requirements.txt (line 21)) (2024.1)\n",
      "Requirement already satisfied: anyio in /home/ec2-user/anaconda3/envs/python3/lib/python3.10/site-packages (from httpx>=0.25.0->-r extraction/requirements.txt (line 11)) (4.10.0)\n",
      "Collecting httpcore==1.* (from httpx>=0.25.0->-r extraction/requirements.txt (line 11))\n",
      "  Using cached httpcore-1.0.9-py3-none-any.whl.metadata (21 kB)\n",
      "Requirement already satisfied: h11>=0.16 in /home/ec2-user/anaconda3/envs/python3/lib/python3.10/site-packages (from httpcore==1.*->httpx>=0.25.0->-r extraction/requirements.txt (line 11)) (0.16.0)\n",
      "Requirement already satisfied: six>=1.5 in /home/ec2-user/anaconda3/envs/python3/lib/python3.10/site-packages (from python-dateutil>=2.8.1->pandas<2.0.0->-r extraction/requirements.txt (line 21)) (1.17.0)\n",
      "Requirement already satisfied: exceptiongroup>=1.0.2 in /home/ec2-user/anaconda3/envs/python3/lib/python3.10/site-packages (from anyio->httpx>=0.25.0->-r extraction/requirements.txt (line 11)) (1.3.0)\n",
      "Requirement already satisfied: sniffio>=1.1 in /home/ec2-user/anaconda3/envs/python3/lib/python3.10/site-packages (from anyio->httpx>=0.25.0->-r extraction/requirements.txt (line 11)) (1.3.1)\n",
      "Downloading accelerate-0.24.1-py3-none-any.whl (261 kB)\n",
      "Downloading bitsandbytes-0.46.1-py3-none-manylinux_2_24_x86_64.whl (72.9 MB)\n",
      "\u001b[2K   \u001b[90m━━━━━━━━━━━━━━━━━━━━━━━━━━━━━━━━━━━━━━━━\u001b[0m \u001b[32m72.9/72.9 MB\u001b[0m \u001b[31m171.7 MB/s\u001b[0m  \u001b[33m0:00:00\u001b[0mm0:00:01\u001b[0m00:01\u001b[0m\n",
      "\u001b[?25hDownloading torch-2.6.0-cp310-cp310-manylinux1_x86_64.whl (766.7 MB)\n",
      "\u001b[2K   \u001b[90m━━━━━━━━━━━━━━━━━━━━━━━━━━━━━━━━━━━━━━━━\u001b[0m \u001b[32m766.7/766.7 MB\u001b[0m \u001b[31m40.5 MB/s\u001b[0m  \u001b[33m0:00:08\u001b[0mm0:00:01\u001b[0m00:01\u001b[0m\n",
      "\u001b[?25hDownloading bs4-0.0.2-py2.py3-none-any.whl (1.2 kB)\n",
      "Using cached charset_normalizer-3.4.3-cp310-cp310-manylinux2014_x86_64.manylinux_2_17_x86_64.manylinux_2_28_x86_64.whl (152 kB)\n",
      "Downloading filelock-3.18.0-py3-none-any.whl (16 kB)\n",
      "Downloading huggingface_hub-0.34.4-py3-none-any.whl (561 kB)\n",
      "\u001b[2K   \u001b[90m━━━━━━━━━━━━━━━━━━━━━━━━━━━━━━━━━━━━━━━━\u001b[0m \u001b[32m561.5/561.5 kB\u001b[0m \u001b[31m37.4 MB/s\u001b[0m  \u001b[33m0:00:00\u001b[0m\n",
      "\u001b[?25hUsing cached psutil-7.0.0-cp36-abi3-manylinux_2_12_x86_64.manylinux2010_x86_64.manylinux_2_17_x86_64.manylinux2014_x86_64.whl (277 kB)\n",
      "Downloading safetensors-0.6.2-cp38-abi3-manylinux_2_17_x86_64.manylinux2014_x86_64.whl (485 kB)\n",
      "Downloading sentencepiece-0.2.0-cp310-cp310-manylinux_2_17_x86_64.manylinux2014_x86_64.whl (1.3 MB)\n",
      "\u001b[2K   \u001b[90m━━━━━━━━━━━━━━━━━━━━━━━━━━━━━━━━━━━━━━━━\u001b[0m \u001b[32m1.3/1.3 MB\u001b[0m \u001b[31m89.4 MB/s\u001b[0m  \u001b[33m0:00:00\u001b[0m\n",
      "\u001b[?25hDownloading sympy-1.13.1-py3-none-any.whl (6.2 MB)\n",
      "\u001b[2K   \u001b[90m━━━━━━━━━━━━━━━━━━━━━━━━━━━━━━━━━━━━━━━━\u001b[0m \u001b[32m6.2/6.2 MB\u001b[0m \u001b[31m127.2 MB/s\u001b[0m  \u001b[33m0:00:00\u001b[0m\n",
      "\u001b[?25hDownloading tokenizers-0.15.2-cp310-cp310-manylinux_2_17_x86_64.manylinux2014_x86_64.whl (3.6 MB)\n",
      "\u001b[2K   \u001b[90m━━━━━━━━━━━━━━━━━━━━━━━━━━━━━━━━━━━━━━━━\u001b[0m \u001b[32m3.6/3.6 MB\u001b[0m \u001b[31m155.2 MB/s\u001b[0m  \u001b[33m0:00:00\u001b[0m\n",
      "\u001b[?25hDownloading transformers-4.35.2-py3-none-any.whl (7.9 MB)\n",
      "\u001b[2K   \u001b[90m━━━━━━━━━━━━━━━━━━━━━━━━━━━━━━━━━━━━━━━━\u001b[0m \u001b[32m7.9/7.9 MB\u001b[0m \u001b[31m183.3 MB/s\u001b[0m  \u001b[33m0:00:00\u001b[0m\n",
      "\u001b[?25hDownloading nvidia_cublas_cu12-12.4.5.8-py3-none-manylinux2014_x86_64.whl (363.4 MB)\n",
      "\u001b[2K   \u001b[90m━━━━━━━━━━━━━━━━━━━━━━━━━━━━━━━━━━━━━━━━\u001b[0m \u001b[32m363.4/363.4 MB\u001b[0m \u001b[31m80.8 MB/s\u001b[0m  \u001b[33m0:00:03\u001b[0mm0:00:01\u001b[0m00:01\u001b[0m\n",
      "\u001b[?25hDownloading nvidia_cuda_cupti_cu12-12.4.127-py3-none-manylinux2014_x86_64.whl (13.8 MB)\n",
      "\u001b[2K   \u001b[90m━━━━━━━━━━━━━━━━━━━━━━━━━━━━━━━━━━━━━━━━\u001b[0m \u001b[32m13.8/13.8 MB\u001b[0m \u001b[31m122.6 MB/s\u001b[0m  \u001b[33m0:00:00\u001b[0m\n",
      "\u001b[?25hDownloading nvidia_cuda_nvrtc_cu12-12.4.127-py3-none-manylinux2014_x86_64.whl (24.6 MB)\n",
      "\u001b[2K   \u001b[90m━━━━━━━━━━━━━━━━━━━━━━━━━━━━━━━━━━━━━━━━\u001b[0m \u001b[32m24.6/24.6 MB\u001b[0m \u001b[31m119.8 MB/s\u001b[0m  \u001b[33m0:00:00\u001b[0mm0:00:01\u001b[0m\n",
      "\u001b[?25hDownloading nvidia_cuda_runtime_cu12-12.4.127-py3-none-manylinux2014_x86_64.whl (883 kB)\n",
      "\u001b[2K   \u001b[90m━━━━━━━━━━━━━━━━━━━━━━━━━━━━━━━━━━━━━━━━\u001b[0m \u001b[32m883.7/883.7 kB\u001b[0m \u001b[31m109.7 MB/s\u001b[0m  \u001b[33m0:00:00\u001b[0m\n",
      "\u001b[?25hDownloading nvidia_cudnn_cu12-9.1.0.70-py3-none-manylinux2014_x86_64.whl (664.8 MB)\n",
      "\u001b[2K   \u001b[90m━━━━━━━━━━━━━━━━━━━━━━━━━━━━━━━━━━━━━━━━\u001b[0m \u001b[32m664.8/664.8 MB\u001b[0m \u001b[31m53.0 MB/s\u001b[0m  \u001b[33m0:00:05\u001b[0mm0:00:01\u001b[0m00:01\u001b[0m\n",
      "\u001b[?25hDownloading nvidia_cufft_cu12-11.2.1.3-py3-none-manylinux2014_x86_64.whl (211.5 MB)\n",
      "\u001b[2K   \u001b[90m━━━━━━━━━━━━━━━━━━━━━━━━━━━━━━━━━━━━━━━━\u001b[0m \u001b[32m211.5/211.5 MB\u001b[0m \u001b[31m121.7 MB/s\u001b[0m  \u001b[33m0:00:01\u001b[0m0:00:01\u001b[0m00:01\u001b[0m\n",
      "\u001b[?25hDownloading nvidia_curand_cu12-10.3.5.147-py3-none-manylinux2014_x86_64.whl (56.3 MB)\n",
      "\u001b[2K   \u001b[90m━━━━━━━━━━━━━━━━━━━━━━━━━━━━━━━━━━━━━━━━\u001b[0m \u001b[32m56.3/56.3 MB\u001b[0m \u001b[31m143.7 MB/s\u001b[0m  \u001b[33m0:00:00\u001b[0m eta \u001b[36m0:00:01\u001b[0m\n",
      "\u001b[?25hDownloading nvidia_cusolver_cu12-11.6.1.9-py3-none-manylinux2014_x86_64.whl (127.9 MB)\n",
      "\u001b[2K   \u001b[90m━━━━━━━━━━━━━━━━━━━━━━━━━━━━━━━━━━━━━━━━\u001b[0m \u001b[32m127.9/127.9 MB\u001b[0m \u001b[31m133.7 MB/s\u001b[0m  \u001b[33m0:00:00\u001b[0m0:00:01\u001b[0m00:01\u001b[0m\n",
      "\u001b[?25hDownloading nvidia_cusparse_cu12-12.3.1.170-py3-none-manylinux2014_x86_64.whl (207.5 MB)\n",
      "\u001b[2K   \u001b[90m━━━━━━━━━━━━━━━━━━━━━━━━━━━━━━━━━━━━━━━━\u001b[0m \u001b[32m207.5/207.5 MB\u001b[0m \u001b[31m133.7 MB/s\u001b[0m  \u001b[33m0:00:01\u001b[0m0:00:01\u001b[0m00:01\u001b[0m\n",
      "\u001b[?25hDownloading nvidia_cusparselt_cu12-0.6.2-py3-none-manylinux2014_x86_64.whl (150.1 MB)\n",
      "\u001b[2K   \u001b[90m━━━━━━━━━━━━━━━━━━━━━━━━━━━━━━━━━━━━━━━━\u001b[0m \u001b[32m150.1/150.1 MB\u001b[0m \u001b[31m136.4 MB/s\u001b[0m  \u001b[33m0:00:01\u001b[0m0:00:01\u001b[0m00:01\u001b[0m\n",
      "\u001b[?25hDownloading nvidia_nccl_cu12-2.21.5-py3-none-manylinux2014_x86_64.whl (188.7 MB)\n",
      "\u001b[2K   \u001b[90m━━━━━━━━━━━━━━━━━━━━━━━━━━━━━━━━━━━━━━━━\u001b[0m \u001b[32m188.7/188.7 MB\u001b[0m \u001b[31m134.3 MB/s\u001b[0m  \u001b[33m0:00:01\u001b[0m0:00:01\u001b[0m00:01\u001b[0m\n",
      "\u001b[?25hDownloading nvidia_nvjitlink_cu12-12.4.127-py3-none-manylinux2014_x86_64.whl (21.1 MB)\n",
      "\u001b[2K   \u001b[90m━━━━━━━━━━━━━━━━━━━━━━━━━━━━━━━━━━━━━━━━\u001b[0m \u001b[32m21.1/21.1 MB\u001b[0m \u001b[31m132.5 MB/s\u001b[0m  \u001b[33m0:00:00\u001b[0m\n",
      "\u001b[?25hDownloading nvidia_nvtx_cu12-12.4.127-py3-none-manylinux2014_x86_64.whl (99 kB)\n",
      "Downloading triton-3.2.0-cp310-cp310-manylinux_2_17_x86_64.manylinux2014_x86_64.whl (253.1 MB)\n",
      "\u001b[2K   \u001b[90m━━━━━━━━━━━━━━━━━━━━━━━━━━━━━━━━━━━━━━━━\u001b[0m \u001b[32m253.1/253.1 MB\u001b[0m \u001b[31m112.8 MB/s\u001b[0m  \u001b[33m0:00:02\u001b[0m0:00:01\u001b[0m00:01\u001b[0m\n",
      "\u001b[?25hDownloading pandas-1.5.3-cp310-cp310-manylinux_2_17_x86_64.manylinux2014_x86_64.whl (12.1 MB)\n",
      "\u001b[2K   \u001b[90m━━━━━━━━━━━━━━━━━━━━━━━━━━━━━━━━━━━━━━━━\u001b[0m \u001b[32m12.1/12.1 MB\u001b[0m \u001b[31m178.3 MB/s\u001b[0m  \u001b[33m0:00:00\u001b[0m\n",
      "\u001b[?25hDownloading hf_xet-1.1.8-cp37-abi3-manylinux_2_17_x86_64.manylinux2014_x86_64.whl (3.2 MB)\n",
      "\u001b[2K   \u001b[90m━━━━━━━━━━━━━━━━━━━━━━━━━━━━━━━━━━━━━━━━\u001b[0m \u001b[32m3.2/3.2 MB\u001b[0m \u001b[31m131.5 MB/s\u001b[0m  \u001b[33m0:00:00\u001b[0m\n",
      "\u001b[?25hUsing cached httpx-0.28.1-py3-none-any.whl (73 kB)\n",
      "Using cached httpcore-1.0.9-py3-none-any.whl (78 kB)\n",
      "Installing collected packages: triton, sentencepiece, nvidia-cusparselt-cu12, sympy, safetensors, psutil, nvidia-nvtx-cu12, nvidia-nvjitlink-cu12, nvidia-nccl-cu12, nvidia-curand-cu12, nvidia-cufft-cu12, nvidia-cuda-runtime-cu12, nvidia-cuda-nvrtc-cu12, nvidia-cuda-cupti-cu12, nvidia-cublas-cu12, httpcore, hf-xet, filelock, charset-normalizer, pandas, nvidia-cusparse-cu12, nvidia-cudnn-cu12, bs4, nvidia-cusolver-cu12, huggingface-hub, httpx, torch, tokenizers, transformers, bitsandbytes, accelerate\n",
      "\u001b[2K  Attempting uninstall: sympy━━━━━━━━━━━━━━━━━━━━━━━━━━━━━━━━━━━━━\u001b[0m \u001b[32m 2/31\u001b[0m [nvidia-cusparselt-cu12]\n",
      "\u001b[2K    Found existing installation: sympy 1.14.0━━━━━━━━━━━━━━━━━\u001b[0m \u001b[32m 2/31\u001b[0m [nvidia-cusparselt-cu12]\n",
      "\u001b[2K    Uninstalling sympy-1.14.0:━━━━━━━━━━━━━━━━━━━━━━━━━━━━━━━━━━━━\u001b[0m \u001b[32m 3/31\u001b[0m [sympy]parselt-cu12]\n",
      "\u001b[2K      Successfully uninstalled sympy-1.14.0━━━━━━━━━━━━━━━━━━━━━━━\u001b[0m \u001b[32m 3/31\u001b[0m [sympy]\n",
      "\u001b[2K  Attempting uninstall: psutil━━━━━━━━━━━━━━━━━━━━━━━━━━━━━━━━━━━━\u001b[0m \u001b[32m 3/31\u001b[0m [sympy]\n",
      "\u001b[2K    Found existing installation: psutil 6.1.1━━━━━━━━━━━━━━━━━\u001b[0m \u001b[32m 3/31\u001b[0m [sympy]\n",
      "\u001b[2K    Uninstalling psutil-6.1.1:━━━━━━━━━━━━━━━━━━━━━━━━━━━━━━━━\u001b[0m \u001b[32m 3/31\u001b[0m [sympy]\n",
      "\u001b[2K      Successfully uninstalled psutil-6.1.1━━━━━━━━━━━━━━━━━━━\u001b[0m \u001b[32m 3/31\u001b[0m [sympy]\n",
      "\u001b[2K  Attempting uninstall: filelock90m╺\u001b[0m\u001b[90m━━━━━━━━━━━━━━━━━━━━━\u001b[0m \u001b[32m14/31\u001b[0m [nvidia-cublas-cu12]u12]2]\n",
      "\u001b[2K    Found existing installation: filelock 3.16.1━━━━━━━━━━━━━━\u001b[0m \u001b[32m14/31\u001b[0m [nvidia-cublas-cu12]\n",
      "\u001b[2K    Uninstalling filelock-3.16.1:[0m\u001b[90m━━━━━━━━━━━━━━━━━━━━━\u001b[0m \u001b[32m14/31\u001b[0m [nvidia-cublas-cu12]\n",
      "\u001b[2K      Successfully uninstalled filelock-3.16.1━━━━━━━━━━━━━━━━\u001b[0m \u001b[32m14/31\u001b[0m [nvidia-cublas-cu12]\n",
      "\u001b[2K  Attempting uninstall: charset-normalizer━━━━━━━━━━━━━━━━━━━━\u001b[0m \u001b[32m14/31\u001b[0m [nvidia-cublas-cu12]\n",
      "\u001b[2K    Found existing installation: charset-normalizer 3.4.2━━━━━\u001b[0m \u001b[32m14/31\u001b[0m [nvidia-cublas-cu12]\n",
      "\u001b[2K    Uninstalling charset-normalizer-3.4.2:[0m\u001b[90m━━━━━━━━━━━━━━━━\u001b[0m \u001b[32m18/31\u001b[0m [charset-normalizer]\n",
      "\u001b[2K      Successfully uninstalled charset-normalizer-3.4.2━━━━━━━\u001b[0m \u001b[32m18/31\u001b[0m [charset-normalizer]\n",
      "\u001b[2K  Attempting uninstall: pandasm\u001b[90m╺\u001b[0m\u001b[90m━━━━━━━━━━━━━━━━\u001b[0m \u001b[32m18/31\u001b[0m [charset-normalizer]\n",
      "\u001b[2K    Found existing installation: pandas 2.2.3m━━━━━━━━━━━━━━━━\u001b[0m \u001b[32m18/31\u001b[0m [charset-normalizer]\n",
      "\u001b[2K    Uninstalling pandas-2.2.3:━━\u001b[0m\u001b[91m╸\u001b[0m\u001b[90m━━━━━━━━━━━━━━━\u001b[0m \u001b[32m19/31\u001b[0m [pandas]malizer]\n",
      "\u001b[2K      Successfully uninstalled pandas-2.2.3[90m━━━━━━━━━━━━━━━\u001b[0m \u001b[32m19/31\u001b[0m [pandas]\n",
      "\u001b[2K   \u001b[90m━━━━━━━━━━━━━━━━━━━━━━━━━━━━━━━━━━━━━━━━\u001b[0m \u001b[32m31/31\u001b[0m [accelerate]1\u001b[0m [accelerate]s]ub]cu12]\n",
      "\u001b[1A\u001b[2K\u001b[31mERROR: pip's dependency resolver does not currently take into account all the packages that are installed. This behaviour is the source of the following dependency conflicts.\n",
      "sphinx 8.1.3 requires docutils<0.22,>=0.20, but you have docutils 0.19 which is incompatible.\u001b[0m\u001b[31m\n",
      "\u001b[0mSuccessfully installed accelerate-0.24.1 bitsandbytes-0.46.1 bs4-0.0.2 charset-normalizer-3.4.3 filelock-3.18.0 hf-xet-1.1.8 httpcore-1.0.9 httpx-0.28.1 huggingface-hub-0.34.4 nvidia-cublas-cu12-12.4.5.8 nvidia-cuda-cupti-cu12-12.4.127 nvidia-cuda-nvrtc-cu12-12.4.127 nvidia-cuda-runtime-cu12-12.4.127 nvidia-cudnn-cu12-9.1.0.70 nvidia-cufft-cu12-11.2.1.3 nvidia-curand-cu12-10.3.5.147 nvidia-cusolver-cu12-11.6.1.9 nvidia-cusparse-cu12-12.3.1.170 nvidia-cusparselt-cu12-0.6.2 nvidia-nccl-cu12-2.21.5 nvidia-nvjitlink-cu12-12.4.127 nvidia-nvtx-cu12-12.4.127 pandas-1.5.3 psutil-7.0.0 safetensors-0.6.2 sentencepiece-0.2.0 sympy-1.13.1 tokenizers-0.15.2 torch-2.6.0 transformers-4.35.2 triton-3.2.0\n"
     ]
    }
   ],
   "source": [
    "import sys\n",
    "!{sys.executable} -m pip install -r extraction/requirements.txt"
   ]
  },
  {
   "cell_type": "code",
   "execution_count": 3,
   "id": "e7436f44-24a6-4175-a2e8-55b06daadd3f",
   "metadata": {},
   "outputs": [],
   "source": [
    "import torch"
   ]
  },
  {
   "cell_type": "code",
   "execution_count": 4,
   "id": "24120a31-19d7-4369-a884-428409b48f05",
   "metadata": {},
   "outputs": [
    {
     "name": "stdout",
     "output_type": "stream",
     "text": [
      "2.6.0+cu124\n"
     ]
    }
   ],
   "source": [
    "print(torch.__version__)"
   ]
  },
  {
   "cell_type": "code",
   "execution_count": 5,
   "id": "8bf0f40b-066b-41e4-b031-6cb8e3f98f5f",
   "metadata": {},
   "outputs": [
    {
     "name": "stderr",
     "output_type": "stream",
     "text": [
      "/home/ec2-user/anaconda3/envs/python3/lib/python3.10/site-packages/transformers/utils/generic.py:441: FutureWarning: `torch.utils._pytree._register_pytree_node` is deprecated. Please use `torch.utils._pytree.register_pytree_node` instead.\n",
      "  _torch_pytree._register_pytree_node(\n"
     ]
    },
    {
     "name": "stdin",
     "output_type": "stream",
     "text": [
      "Warning. This will download model weights [roughly 15GB]. Proceed? (y/n) y\n"
     ]
    },
    {
     "name": "stderr",
     "output_type": "stream",
     "text": [
      "/home/ec2-user/anaconda3/envs/python3/lib/python3.10/site-packages/huggingface_hub/file_download.py:945: FutureWarning: `resume_download` is deprecated and will be removed in version 1.0.0. Downloads always resume when possible. If you want to force a new download, use `force_download=True`.\n",
      "  warnings.warn(\n"
     ]
    },
    {
     "data": {
      "application/vnd.jupyter.widget-view+json": {
       "model_id": "b3a5e9ee29264466b1bd36209cb4726d",
       "version_major": 2,
       "version_minor": 0
      },
      "text/plain": [
       "tokenizer_config.json:   0%|          | 0.00/795 [00:00<?, ?B/s]"
      ]
     },
     "metadata": {},
     "output_type": "display_data"
    },
    {
     "data": {
      "application/vnd.jupyter.widget-view+json": {
       "model_id": "f38d1d19007c4508a5145d6faf901064",
       "version_major": 2,
       "version_minor": 0
      },
      "text/plain": [
       "tokenization_baichuan.py: 0.00B [00:00, ?B/s]"
      ]
     },
     "metadata": {},
     "output_type": "display_data"
    },
    {
     "name": "stderr",
     "output_type": "stream",
     "text": [
      "A new version of the following files was downloaded from https://huggingface.co/baichuan-inc/Baichuan2-7B-Chat:\n",
      "- tokenization_baichuan.py\n",
      ". Make sure to double-check they do not contain any added malicious code. To avoid downloading new versions of the code file, you can pin a revision.\n"
     ]
    },
    {
     "data": {
      "application/vnd.jupyter.widget-view+json": {
       "model_id": "70489561585f435d84cc093a82051417",
       "version_major": 2,
       "version_minor": 0
      },
      "text/plain": [
       "tokenizer.model:   0%|          | 0.00/2.00M [00:00<?, ?B/s]"
      ]
     },
     "metadata": {},
     "output_type": "display_data"
    },
    {
     "data": {
      "application/vnd.jupyter.widget-view+json": {
       "model_id": "3ee22a7a59ae4a33828bb0b0548baefc",
       "version_major": 2,
       "version_minor": 0
      },
      "text/plain": [
       "special_tokens_map.json:   0%|          | 0.00/548 [00:00<?, ?B/s]"
      ]
     },
     "metadata": {},
     "output_type": "display_data"
    },
    {
     "data": {
      "application/vnd.jupyter.widget-view+json": {
       "model_id": "3ad5c4f14bab4db18cd0ecbafe67cf47",
       "version_major": 2,
       "version_minor": 0
      },
      "text/plain": [
       "config.json:   0%|          | 0.00/758 [00:00<?, ?B/s]"
      ]
     },
     "metadata": {},
     "output_type": "display_data"
    },
    {
     "data": {
      "application/vnd.jupyter.widget-view+json": {
       "model_id": "5f19db9478254c1db3bfe22ea3266682",
       "version_major": 2,
       "version_minor": 0
      },
      "text/plain": [
       "configuration_baichuan.py: 0.00B [00:00, ?B/s]"
      ]
     },
     "metadata": {},
     "output_type": "display_data"
    },
    {
     "name": "stderr",
     "output_type": "stream",
     "text": [
      "A new version of the following files was downloaded from https://huggingface.co/baichuan-inc/Baichuan2-7B-Chat:\n",
      "- configuration_baichuan.py\n",
      ". Make sure to double-check they do not contain any added malicious code. To avoid downloading new versions of the code file, you can pin a revision.\n"
     ]
    },
    {
     "data": {
      "application/vnd.jupyter.widget-view+json": {
       "model_id": "7753700be2874819aac1256b18ce4fb6",
       "version_major": 2,
       "version_minor": 0
      },
      "text/plain": [
       "modeling_baichuan.py: 0.00B [00:00, ?B/s]"
      ]
     },
     "metadata": {},
     "output_type": "display_data"
    },
    {
     "data": {
      "application/vnd.jupyter.widget-view+json": {
       "model_id": "497a7f801d554d5e830f5284b33f1049",
       "version_major": 2,
       "version_minor": 0
      },
      "text/plain": [
       "quantizer.py: 0.00B [00:00, ?B/s]"
      ]
     },
     "metadata": {},
     "output_type": "display_data"
    },
    {
     "name": "stderr",
     "output_type": "stream",
     "text": [
      "A new version of the following files was downloaded from https://huggingface.co/baichuan-inc/Baichuan2-7B-Chat:\n",
      "- quantizer.py\n",
      ". Make sure to double-check they do not contain any added malicious code. To avoid downloading new versions of the code file, you can pin a revision.\n",
      "/home/ec2-user/anaconda3/envs/python3/lib/python3.10/site-packages/huggingface_hub/file_download.py:945: FutureWarning: `resume_download` is deprecated and will be removed in version 1.0.0. Downloads always resume when possible. If you want to force a new download, use `force_download=True`.\n",
      "  warnings.warn(\n"
     ]
    },
    {
     "data": {
      "application/vnd.jupyter.widget-view+json": {
       "model_id": "15eb0db724da4e188d3479075c90285f",
       "version_major": 2,
       "version_minor": 0
      },
      "text/plain": [
       "generation_utils.py: 0.00B [00:00, ?B/s]"
      ]
     },
     "metadata": {},
     "output_type": "display_data"
    },
    {
     "name": "stderr",
     "output_type": "stream",
     "text": [
      "A new version of the following files was downloaded from https://huggingface.co/baichuan-inc/Baichuan2-7B-Chat:\n",
      "- generation_utils.py\n",
      ". Make sure to double-check they do not contain any added malicious code. To avoid downloading new versions of the code file, you can pin a revision.\n",
      "A new version of the following files was downloaded from https://huggingface.co/baichuan-inc/Baichuan2-7B-Chat:\n",
      "- modeling_baichuan.py\n",
      "- quantizer.py\n",
      "- generation_utils.py\n",
      ". Make sure to double-check they do not contain any added malicious code. To avoid downloading new versions of the code file, you can pin a revision.\n",
      "/home/ec2-user/anaconda3/envs/python3/lib/python3.10/site-packages/transformers/utils/generic.py:309: FutureWarning: `torch.utils._pytree._register_pytree_node` is deprecated. Please use `torch.utils._pytree.register_pytree_node` instead.\n",
      "  _torch_pytree._register_pytree_node(\n",
      "/home/ec2-user/anaconda3/envs/python3/lib/python3.10/site-packages/transformers/utils/generic.py:309: FutureWarning: `torch.utils._pytree._register_pytree_node` is deprecated. Please use `torch.utils._pytree.register_pytree_node` instead.\n",
      "  _torch_pytree._register_pytree_node(\n",
      "Xformers is not installed correctly. If you want to use memory_efficient_attention to accelerate training use the following command to install Xformers\n",
      "pip install xformers.\n",
      "/home/ec2-user/anaconda3/envs/python3/lib/python3.10/site-packages/huggingface_hub/file_download.py:945: FutureWarning: `resume_download` is deprecated and will be removed in version 1.0.0. Downloads always resume when possible. If you want to force a new download, use `force_download=True`.\n",
      "  warnings.warn(\n"
     ]
    },
    {
     "data": {
      "application/vnd.jupyter.widget-view+json": {
       "model_id": "136b3b9882ef4aee91451bcfef5ab2d0",
       "version_major": 2,
       "version_minor": 0
      },
      "text/plain": [
       "pytorch_model.bin:   0%|          | 0.00/15.0G [00:00<?, ?B/s]"
      ]
     },
     "metadata": {},
     "output_type": "display_data"
    },
    {
     "data": {
      "application/vnd.jupyter.widget-view+json": {
       "model_id": "766c74bc8cec4849a993f53e40bc1439",
       "version_major": 2,
       "version_minor": 0
      },
      "text/plain": [
       "generation_config.json:   0%|          | 0.00/285 [00:00<?, ?B/s]"
      ]
     },
     "metadata": {},
     "output_type": "display_data"
    },
    {
     "data": {
      "text/plain": [
       "(BaichuanForCausalLM(\n",
       "   (model): BaichuanModel(\n",
       "     (embed_tokens): Embedding(125696, 4096, padding_idx=0)\n",
       "     (layers): ModuleList(\n",
       "       (0-31): 32 x DecoderLayer(\n",
       "         (self_attn): Attention(\n",
       "           (W_pack): Linear(in_features=4096, out_features=12288, bias=False)\n",
       "           (o_proj): Linear(in_features=4096, out_features=4096, bias=False)\n",
       "           (rotary_emb): RotaryEmbedding()\n",
       "         )\n",
       "         (mlp): MLP(\n",
       "           (gate_proj): Linear(in_features=4096, out_features=11008, bias=False)\n",
       "           (down_proj): Linear(in_features=11008, out_features=4096, bias=False)\n",
       "           (up_proj): Linear(in_features=4096, out_features=11008, bias=False)\n",
       "           (act_fn): SiLUActivation()\n",
       "         )\n",
       "         (input_layernorm): RMSNorm()\n",
       "         (post_attention_layernorm): RMSNorm()\n",
       "       )\n",
       "     )\n",
       "     (norm): RMSNorm()\n",
       "   )\n",
       "   (lm_head): NormHead()\n",
       " ),\n",
       " BaichuanTokenizer(name_or_path='baichuan-inc/Baichuan2-7B-Chat', vocab_size=125696, model_max_length=4096, is_fast=False, padding_side='right', truncation_side='right', special_tokens={'bos_token': '<s>', 'eos_token': '</s>', 'unk_token': '<unk>', 'pad_token': '<unk>'}, clean_up_tokenization_spaces=False),  added_tokens_decoder={\n",
       " \t0: AddedToken(\"<unk>\", rstrip=False, lstrip=False, single_word=False, normalized=True, special=True),\n",
       " \t1: AddedToken(\"<s>\", rstrip=False, lstrip=False, single_word=False, normalized=True, special=True),\n",
       " \t2: AddedToken(\"</s>\", rstrip=False, lstrip=False, single_word=False, normalized=True, special=True),\n",
       " },\n",
       " GenerationConfig {\n",
       "   \"max_new_tokens\": 512\n",
       " })"
      ]
     },
     "execution_count": 5,
     "metadata": {},
     "output_type": "execute_result"
    }
   ],
   "source": [
    "from extraction.model import construct_model\n",
    "\n",
    "# This downloads the underlying model for later...\n",
    "construct_model()"
   ]
  },
  {
   "cell_type": "code",
   "execution_count": 8,
   "id": "575761f2-e9c5-40d3-85e5-d2ebbeba4dc6",
   "metadata": {},
   "outputs": [
    {
     "name": "stdout",
     "output_type": "stream",
     "text": [
      "\u001b[33mWARNING: Ignoring invalid distribution -orch (/home/ec2-user/anaconda3/envs/python3/lib/python3.10/site-packages)\u001b[0m\u001b[33m\n",
      "\u001b[0mLooking in indexes: https://download.pytorch.org/whl/cu121\n",
      "Collecting xformers\n",
      "  Using cached https://download.pytorch.org/whl/cu121/xformers-0.0.27.post2-cp310-cp310-manylinux2014_x86_64.whl (20.8 MB)\n",
      "Requirement already satisfied: numpy in /home/ec2-user/anaconda3/envs/python3/lib/python3.10/site-packages (from xformers) (1.26.4)\n",
      "Requirement already satisfied: torch==2.4.0 in /home/ec2-user/anaconda3/envs/python3/lib/python3.10/site-packages (from xformers) (2.4.0+cu121)\n",
      "Requirement already satisfied: filelock in /home/ec2-user/anaconda3/envs/python3/lib/python3.10/site-packages (from torch==2.4.0->xformers) (3.18.0)\n",
      "Requirement already satisfied: typing-extensions>=4.8.0 in /home/ec2-user/anaconda3/envs/python3/lib/python3.10/site-packages (from torch==2.4.0->xformers) (4.14.1)\n",
      "Requirement already satisfied: sympy in /home/ec2-user/anaconda3/envs/python3/lib/python3.10/site-packages (from torch==2.4.0->xformers) (1.13.1)\n",
      "Requirement already satisfied: networkx in /home/ec2-user/anaconda3/envs/python3/lib/python3.10/site-packages (from torch==2.4.0->xformers) (3.4.2)\n",
      "Requirement already satisfied: jinja2 in /home/ec2-user/anaconda3/envs/python3/lib/python3.10/site-packages (from torch==2.4.0->xformers) (3.1.6)\n",
      "Requirement already satisfied: fsspec in /home/ec2-user/anaconda3/envs/python3/lib/python3.10/site-packages (from torch==2.4.0->xformers) (2025.7.0)\n",
      "Requirement already satisfied: nvidia-cuda-nvrtc-cu12==12.1.105 in /home/ec2-user/anaconda3/envs/python3/lib/python3.10/site-packages (from torch==2.4.0->xformers) (12.1.105)\n",
      "Requirement already satisfied: nvidia-cuda-runtime-cu12==12.1.105 in /home/ec2-user/anaconda3/envs/python3/lib/python3.10/site-packages (from torch==2.4.0->xformers) (12.1.105)\n",
      "Requirement already satisfied: nvidia-cuda-cupti-cu12==12.1.105 in /home/ec2-user/anaconda3/envs/python3/lib/python3.10/site-packages (from torch==2.4.0->xformers) (12.1.105)\n",
      "Requirement already satisfied: nvidia-cudnn-cu12==9.1.0.70 in /home/ec2-user/anaconda3/envs/python3/lib/python3.10/site-packages (from torch==2.4.0->xformers) (9.1.0.70)\n",
      "Requirement already satisfied: nvidia-cublas-cu12==12.1.3.1 in /home/ec2-user/anaconda3/envs/python3/lib/python3.10/site-packages (from torch==2.4.0->xformers) (12.1.3.1)\n",
      "Requirement already satisfied: nvidia-cufft-cu12==11.0.2.54 in /home/ec2-user/anaconda3/envs/python3/lib/python3.10/site-packages (from torch==2.4.0->xformers) (11.0.2.54)\n",
      "Requirement already satisfied: nvidia-curand-cu12==10.3.2.106 in /home/ec2-user/anaconda3/envs/python3/lib/python3.10/site-packages (from torch==2.4.0->xformers) (10.3.2.106)\n",
      "Requirement already satisfied: nvidia-cusolver-cu12==11.4.5.107 in /home/ec2-user/anaconda3/envs/python3/lib/python3.10/site-packages (from torch==2.4.0->xformers) (11.4.5.107)\n",
      "Requirement already satisfied: nvidia-cusparse-cu12==12.1.0.106 in /home/ec2-user/anaconda3/envs/python3/lib/python3.10/site-packages (from torch==2.4.0->xformers) (12.1.0.106)\n",
      "Requirement already satisfied: nvidia-nccl-cu12==2.20.5 in /home/ec2-user/anaconda3/envs/python3/lib/python3.10/site-packages (from torch==2.4.0->xformers) (2.20.5)\n",
      "Requirement already satisfied: nvidia-nvtx-cu12==12.1.105 in /home/ec2-user/anaconda3/envs/python3/lib/python3.10/site-packages (from torch==2.4.0->xformers) (12.1.105)\n",
      "Requirement already satisfied: triton==3.0.0 in /home/ec2-user/anaconda3/envs/python3/lib/python3.10/site-packages (from torch==2.4.0->xformers) (3.0.0)\n",
      "Requirement already satisfied: nvidia-nvjitlink-cu12 in /home/ec2-user/anaconda3/envs/python3/lib/python3.10/site-packages (from nvidia-cusolver-cu12==11.4.5.107->torch==2.4.0->xformers) (12.4.127)\n",
      "Requirement already satisfied: MarkupSafe>=2.0 in /home/ec2-user/anaconda3/envs/python3/lib/python3.10/site-packages (from jinja2->torch==2.4.0->xformers) (3.0.2)\n",
      "Requirement already satisfied: mpmath<1.4,>=1.1.0 in /home/ec2-user/anaconda3/envs/python3/lib/python3.10/site-packages (from sympy->torch==2.4.0->xformers) (1.3.0)\n",
      "\u001b[33mWARNING: Ignoring invalid distribution -orch (/home/ec2-user/anaconda3/envs/python3/lib/python3.10/site-packages)\u001b[0m\u001b[33m\n",
      "\u001b[0mInstalling collected packages: xformers\n",
      "\u001b[33mWARNING: Ignoring invalid distribution -orch (/home/ec2-user/anaconda3/envs/python3/lib/python3.10/site-packages)\u001b[0m\u001b[33m\n",
      "\u001b[0mSuccessfully installed xformers-0.0.27.post2\n"
     ]
    }
   ],
   "source": [
    "import sys\n",
    "!{sys.executable} -m pip install xformers --index-url https://download.pytorch.org/whl/cu121"
   ]
  },
  {
   "cell_type": "code",
   "execution_count": 9,
   "id": "698c0f71-44ed-4f0d-9539-1eddfc4a7aa6",
   "metadata": {},
   "outputs": [
    {
     "name": "stdout",
     "output_type": "stream",
     "text": [
      "\u001b[33mWARNING: Ignoring invalid distribution -orch (/home/ec2-user/anaconda3/envs/python3/lib/python3.10/site-packages)\u001b[0m\u001b[33m\n",
      "\u001b[0mCollecting flash-attn==2.8.3+cu12torch2.4cxx11abifalse\n",
      "  Downloading https://github.com/Dao-AILab/flash-attention/releases/download/v2.8.3/flash_attn-2.8.3+cu12torch2.4cxx11abiFALSE-cp310-cp310-linux_x86_64.whl (256.0 MB)\n",
      "\u001b[2K     \u001b[90m━━━━━━━━━━━━━━━━━━━━━━━━━━━━━━━━━━━━━━━━\u001b[0m \u001b[32m256.0/256.0 MB\u001b[0m \u001b[31m74.2 MB/s\u001b[0m  \u001b[33m0:00:03\u001b[0m:00:01\u001b[0m00:01\u001b[0m\n",
      "\u001b[?25hRequirement already satisfied: torch in /home/ec2-user/anaconda3/envs/python3/lib/python3.10/site-packages (from flash-attn==2.8.3+cu12torch2.4cxx11abifalse) (2.4.0+cu121)\n",
      "Collecting einops (from flash-attn==2.8.3+cu12torch2.4cxx11abifalse)\n",
      "  Downloading einops-0.8.1-py3-none-any.whl.metadata (13 kB)\n",
      "Requirement already satisfied: filelock in /home/ec2-user/anaconda3/envs/python3/lib/python3.10/site-packages (from torch->flash-attn==2.8.3+cu12torch2.4cxx11abifalse) (3.18.0)\n",
      "Requirement already satisfied: typing-extensions>=4.8.0 in /home/ec2-user/anaconda3/envs/python3/lib/python3.10/site-packages (from torch->flash-attn==2.8.3+cu12torch2.4cxx11abifalse) (4.14.1)\n",
      "Requirement already satisfied: sympy in /home/ec2-user/anaconda3/envs/python3/lib/python3.10/site-packages (from torch->flash-attn==2.8.3+cu12torch2.4cxx11abifalse) (1.13.1)\n",
      "Requirement already satisfied: networkx in /home/ec2-user/anaconda3/envs/python3/lib/python3.10/site-packages (from torch->flash-attn==2.8.3+cu12torch2.4cxx11abifalse) (3.4.2)\n",
      "Requirement already satisfied: jinja2 in /home/ec2-user/anaconda3/envs/python3/lib/python3.10/site-packages (from torch->flash-attn==2.8.3+cu12torch2.4cxx11abifalse) (3.1.6)\n",
      "Requirement already satisfied: fsspec in /home/ec2-user/anaconda3/envs/python3/lib/python3.10/site-packages (from torch->flash-attn==2.8.3+cu12torch2.4cxx11abifalse) (2025.7.0)\n",
      "Requirement already satisfied: nvidia-cuda-nvrtc-cu12==12.1.105 in /home/ec2-user/anaconda3/envs/python3/lib/python3.10/site-packages (from torch->flash-attn==2.8.3+cu12torch2.4cxx11abifalse) (12.1.105)\n",
      "Requirement already satisfied: nvidia-cuda-runtime-cu12==12.1.105 in /home/ec2-user/anaconda3/envs/python3/lib/python3.10/site-packages (from torch->flash-attn==2.8.3+cu12torch2.4cxx11abifalse) (12.1.105)\n",
      "Requirement already satisfied: nvidia-cuda-cupti-cu12==12.1.105 in /home/ec2-user/anaconda3/envs/python3/lib/python3.10/site-packages (from torch->flash-attn==2.8.3+cu12torch2.4cxx11abifalse) (12.1.105)\n",
      "Requirement already satisfied: nvidia-cudnn-cu12==9.1.0.70 in /home/ec2-user/anaconda3/envs/python3/lib/python3.10/site-packages (from torch->flash-attn==2.8.3+cu12torch2.4cxx11abifalse) (9.1.0.70)\n",
      "Requirement already satisfied: nvidia-cublas-cu12==12.1.3.1 in /home/ec2-user/anaconda3/envs/python3/lib/python3.10/site-packages (from torch->flash-attn==2.8.3+cu12torch2.4cxx11abifalse) (12.1.3.1)\n",
      "Requirement already satisfied: nvidia-cufft-cu12==11.0.2.54 in /home/ec2-user/anaconda3/envs/python3/lib/python3.10/site-packages (from torch->flash-attn==2.8.3+cu12torch2.4cxx11abifalse) (11.0.2.54)\n",
      "Requirement already satisfied: nvidia-curand-cu12==10.3.2.106 in /home/ec2-user/anaconda3/envs/python3/lib/python3.10/site-packages (from torch->flash-attn==2.8.3+cu12torch2.4cxx11abifalse) (10.3.2.106)\n",
      "Requirement already satisfied: nvidia-cusolver-cu12==11.4.5.107 in /home/ec2-user/anaconda3/envs/python3/lib/python3.10/site-packages (from torch->flash-attn==2.8.3+cu12torch2.4cxx11abifalse) (11.4.5.107)\n",
      "Requirement already satisfied: nvidia-cusparse-cu12==12.1.0.106 in /home/ec2-user/anaconda3/envs/python3/lib/python3.10/site-packages (from torch->flash-attn==2.8.3+cu12torch2.4cxx11abifalse) (12.1.0.106)\n",
      "Requirement already satisfied: nvidia-nccl-cu12==2.20.5 in /home/ec2-user/anaconda3/envs/python3/lib/python3.10/site-packages (from torch->flash-attn==2.8.3+cu12torch2.4cxx11abifalse) (2.20.5)\n",
      "Requirement already satisfied: nvidia-nvtx-cu12==12.1.105 in /home/ec2-user/anaconda3/envs/python3/lib/python3.10/site-packages (from torch->flash-attn==2.8.3+cu12torch2.4cxx11abifalse) (12.1.105)\n",
      "Requirement already satisfied: triton==3.0.0 in /home/ec2-user/anaconda3/envs/python3/lib/python3.10/site-packages (from torch->flash-attn==2.8.3+cu12torch2.4cxx11abifalse) (3.0.0)\n",
      "Requirement already satisfied: nvidia-nvjitlink-cu12 in /home/ec2-user/anaconda3/envs/python3/lib/python3.10/site-packages (from nvidia-cusolver-cu12==11.4.5.107->torch->flash-attn==2.8.3+cu12torch2.4cxx11abifalse) (12.4.127)\n",
      "Requirement already satisfied: MarkupSafe>=2.0 in /home/ec2-user/anaconda3/envs/python3/lib/python3.10/site-packages (from jinja2->torch->flash-attn==2.8.3+cu12torch2.4cxx11abifalse) (3.0.2)\n",
      "Requirement already satisfied: mpmath<1.4,>=1.1.0 in /home/ec2-user/anaconda3/envs/python3/lib/python3.10/site-packages (from sympy->torch->flash-attn==2.8.3+cu12torch2.4cxx11abifalse) (1.3.0)\n",
      "Downloading einops-0.8.1-py3-none-any.whl (64 kB)\n",
      "\u001b[33mWARNING: Ignoring invalid distribution -orch (/home/ec2-user/anaconda3/envs/python3/lib/python3.10/site-packages)\u001b[0m\u001b[33m\n",
      "\u001b[0mInstalling collected packages: einops, flash-attn\n",
      "\u001b[2K   \u001b[90m━━━━━━━━━━━━━━━━━━━━━━━━━━━━━━━━━━━━━━━━\u001b[0m \u001b[32m2/2\u001b[0m [flash-attn]2\u001b[0m [flash-attn]\n",
      "\u001b[1A\u001b[2K\u001b[33mWARNING: Ignoring invalid distribution -orch (/home/ec2-user/anaconda3/envs/python3/lib/python3.10/site-packages)\u001b[0m\u001b[33m\n",
      "\u001b[0mSuccessfully installed einops-0.8.1 flash-attn-2.8.3\n"
     ]
    }
   ],
   "source": [
    "import sys\n",
    "# Set the CUDA_HOME variable to the correct path for this installation command\n",
    "!{sys.executable} -m pip install https://github.com/Dao-AILab/flash-attention/releases/download/v2.8.3/flash_attn-2.8.3+cu12torch2.4cxx11abiFALSE-cp310-cp310-linux_x86_64.whl"
   ]
  },
  {
   "cell_type": "code",
   "execution_count": 2,
   "id": "1f3f95e4-b443-47b5-83fa-36595f26afaf",
   "metadata": {
    "scrolled": true
   },
   "outputs": [
    {
     "name": "stdout",
     "output_type": "stream",
     "text": [
      "[DEBUG] Total number of paragraphs found: 59\n",
      "[DEBUG] Extracted article text length: 49687\n"
     ]
    },
    {
     "name": "stdin",
     "output_type": "stream",
     "text": [
      "Warning. This will download model weights [roughly 15GB]. Proceed? (y/n) y\n"
     ]
    },
    {
     "name": "stdout",
     "output_type": "stream",
     "text": [
      "[DEBUG] Chunking document...\n",
      "[DEBUG] Processing chunk (length: 669 chars)\n",
      "DEBUG ENABLED:  True\n",
      "--- Processing Chunk (length: 669 chars) ---\n",
      "--> No decision tree found in this chunk.\n",
      "[DEBUG] Processing chunk (length: 714 chars)\n",
      "DEBUG ENABLED:  True\n",
      "--- Processing Chunk (length: 714 chars) ---\n",
      "--> Found partial decision tree.\n",
      "[DEBUG] Processing chunk (length: 1422 chars)\n",
      "DEBUG ENABLED:  True\n",
      "--- Processing Chunk (length: 1422 chars) ---\n",
      "--> No decision tree found in this chunk.\n",
      "[DEBUG] Processing chunk (length: 905 chars)\n",
      "DEBUG ENABLED:  True\n",
      "--- Processing Chunk (length: 905 chars) ---\n",
      "--> Found partial decision tree.\n",
      "[DEBUG] Processing chunk (length: 912 chars)\n",
      "DEBUG ENABLED:  True\n",
      "--- Processing Chunk (length: 912 chars) ---\n",
      "--> Found partial decision tree.\n",
      "[DEBUG] Processing chunk (length: 1144 chars)\n",
      "DEBUG ENABLED:  True\n",
      "--- Processing Chunk (length: 1144 chars) ---\n",
      "--> No decision tree found in this chunk.\n",
      "[DEBUG] Processing chunk (length: 664 chars)\n",
      "DEBUG ENABLED:  True\n",
      "--- Processing Chunk (length: 664 chars) ---\n",
      "--> No decision tree found in this chunk.\n",
      "[DEBUG] Processing chunk (length: 640 chars)\n",
      "DEBUG ENABLED:  True\n",
      "--- Processing Chunk (length: 640 chars) ---\n",
      "--> Found partial decision tree.\n",
      "[DEBUG] Processing chunk (length: 1364 chars)\n",
      "DEBUG ENABLED:  True\n",
      "--- Processing Chunk (length: 1364 chars) ---\n",
      "--> No decision tree found in this chunk.\n",
      "[DEBUG] Processing chunk (length: 745 chars)\n",
      "DEBUG ENABLED:  True\n",
      "--- Processing Chunk (length: 745 chars) ---\n",
      "--> Found partial decision tree.\n",
      "[DEBUG] Processing chunk (length: 691 chars)\n",
      "DEBUG ENABLED:  True\n",
      "--- Processing Chunk (length: 691 chars) ---\n",
      "--> Found partial decision tree.\n",
      "[DEBUG] Processing chunk (length: 1067 chars)\n",
      "DEBUG ENABLED:  True\n",
      "--- Processing Chunk (length: 1067 chars) ---\n",
      "--> Found partial decision tree.\n",
      "[DEBUG] Processing chunk (length: 1032 chars)\n",
      "DEBUG ENABLED:  True\n",
      "--- Processing Chunk (length: 1032 chars) ---\n",
      "--> No decision tree found in this chunk.\n",
      "[DEBUG] Processing chunk (length: 642 chars)\n",
      "DEBUG ENABLED:  True\n",
      "--- Processing Chunk (length: 642 chars) ---\n",
      "--> No decision tree found in this chunk.\n",
      "[DEBUG] Processing chunk (length: 418 chars)\n",
      "DEBUG ENABLED:  True\n",
      "--- Processing Chunk (length: 418 chars) ---\n",
      "--> Found partial decision tree.\n",
      "[DEBUG] Processing chunk (length: 909 chars)\n",
      "DEBUG ENABLED:  True\n",
      "--- Processing Chunk (length: 909 chars) ---\n",
      "--> No decision tree found in this chunk.\n",
      "[DEBUG] Processing chunk (length: 1455 chars)\n",
      "DEBUG ENABLED:  True\n",
      "--- Processing Chunk (length: 1455 chars) ---\n",
      "--> No decision tree found in this chunk.\n",
      "[DEBUG] Processing chunk (length: 651 chars)\n",
      "DEBUG ENABLED:  True\n",
      "--- Processing Chunk (length: 651 chars) ---\n",
      "--> Found partial decision tree.\n",
      "[DEBUG] Processing chunk (length: 617 chars)\n",
      "DEBUG ENABLED:  True\n",
      "--- Processing Chunk (length: 617 chars) ---\n",
      "--> Found partial decision tree.\n",
      "[DEBUG] Processing chunk (length: 747 chars)\n",
      "DEBUG ENABLED:  True\n",
      "--- Processing Chunk (length: 747 chars) ---\n",
      "--> Found partial decision tree.\n",
      "[DEBUG] Processing chunk (length: 550 chars)\n",
      "DEBUG ENABLED:  True\n",
      "--- Processing Chunk (length: 550 chars) ---\n",
      "--> No decision tree found in this chunk.\n",
      "[DEBUG] Processing chunk (length: 425 chars)\n",
      "DEBUG ENABLED:  True\n",
      "--- Processing Chunk (length: 425 chars) ---\n",
      "--> Found partial decision tree.\n",
      "[DEBUG] Processing chunk (length: 757 chars)\n",
      "DEBUG ENABLED:  True\n",
      "--- Processing Chunk (length: 757 chars) ---\n",
      "--> No decision tree found in this chunk.\n",
      "[DEBUG] Processing chunk (length: 474 chars)\n",
      "DEBUG ENABLED:  True\n",
      "--- Processing Chunk (length: 474 chars) ---\n",
      "--> Found partial decision tree.\n",
      "[DEBUG] Processing chunk (length: 1292 chars)\n",
      "DEBUG ENABLED:  True\n",
      "--- Processing Chunk (length: 1292 chars) ---\n",
      "--> No decision tree found in this chunk.\n",
      "[DEBUG] Processing chunk (length: 541 chars)\n",
      "DEBUG ENABLED:  True\n",
      "--- Processing Chunk (length: 541 chars) ---\n",
      "--> Found partial decision tree.\n",
      "[DEBUG] Processing chunk (length: 1571 chars)\n",
      "DEBUG ENABLED:  True\n",
      "--- Processing Chunk (length: 1571 chars) ---\n",
      "--> No decision tree found in this chunk.\n",
      "[DEBUG] Processing chunk (length: 453 chars)\n",
      "DEBUG ENABLED:  True\n",
      "--- Processing Chunk (length: 453 chars) ---\n",
      "--> Found partial decision tree.\n",
      "[DEBUG] Processing chunk (length: 493 chars)\n",
      "DEBUG ENABLED:  True\n",
      "--- Processing Chunk (length: 493 chars) ---\n",
      "--> Found partial decision tree.\n",
      "[DEBUG] Processing chunk (length: 798 chars)\n",
      "DEBUG ENABLED:  True\n",
      "--- Processing Chunk (length: 798 chars) ---\n",
      "--> Found partial decision tree.\n",
      "[DEBUG] Processing chunk (length: 1169 chars)\n",
      "DEBUG ENABLED:  True\n",
      "--- Processing Chunk (length: 1169 chars) ---\n",
      "--> No decision tree found in this chunk.\n",
      "[DEBUG] Processing chunk (length: 495 chars)\n",
      "DEBUG ENABLED:  True\n",
      "--- Processing Chunk (length: 495 chars) ---\n",
      "--> No decision tree found in this chunk.\n",
      "[DEBUG] Processing chunk (length: 1266 chars)\n",
      "DEBUG ENABLED:  True\n",
      "--- Processing Chunk (length: 1266 chars) ---\n",
      "--> No decision tree found in this chunk.\n",
      "[DEBUG] Processing chunk (length: 1050 chars)\n",
      "DEBUG ENABLED:  True\n",
      "--- Processing Chunk (length: 1050 chars) ---\n",
      "--> Found partial decision tree.\n",
      "[DEBUG] Processing chunk (length: 891 chars)\n",
      "DEBUG ENABLED:  True\n",
      "--- Processing Chunk (length: 891 chars) ---\n",
      "--> No decision tree found in this chunk.\n",
      "[DEBUG] Processing chunk (length: 1511 chars)\n",
      "DEBUG ENABLED:  True\n",
      "--- Processing Chunk (length: 1511 chars) ---\n",
      "--> No decision tree found in this chunk.\n",
      "[DEBUG] Processing chunk (length: 1936 chars)\n",
      "DEBUG ENABLED:  True\n",
      "--- Processing Chunk (length: 1936 chars) ---\n",
      "--> Found partial decision tree.\n",
      "[DEBUG] Processing chunk (length: 668 chars)\n",
      "DEBUG ENABLED:  True\n",
      "--- Processing Chunk (length: 668 chars) ---\n",
      "--> No decision tree found in this chunk.\n",
      "[DEBUG] Processing chunk (length: 1498 chars)\n",
      "DEBUG ENABLED:  True\n",
      "--- Processing Chunk (length: 1498 chars) ---\n",
      "--> Found partial decision tree.\n",
      "[DEBUG] Processing chunk (length: 478 chars)\n",
      "DEBUG ENABLED:  True\n",
      "--- Processing Chunk (length: 478 chars) ---\n",
      "--> Found partial decision tree.\n",
      "[DEBUG] Processing chunk (length: 466 chars)\n",
      "DEBUG ENABLED:  True\n",
      "--- Processing Chunk (length: 466 chars) ---\n",
      "--> No decision tree found in this chunk.\n",
      "[DEBUG] Processing chunk (length: 174 chars)\n",
      "DEBUG ENABLED:  True\n",
      "--- Processing Chunk (length: 174 chars) ---\n",
      "--> Found partial decision tree.\n",
      "[DEBUG] Processing chunk (length: 145 chars)\n",
      "DEBUG ENABLED:  True\n",
      "--- Processing Chunk (length: 145 chars) ---\n",
      "--> Found partial decision tree.\n",
      "[DEBUG] Processing chunk (length: 345 chars)\n",
      "DEBUG ENABLED:  True\n",
      "--- Processing Chunk (length: 345 chars) ---\n",
      "--> Found partial decision tree.\n",
      "[DEBUG] Processing chunk (length: 631 chars)\n",
      "DEBUG ENABLED:  True\n",
      "--- Processing Chunk (length: 631 chars) ---\n",
      "--> No decision tree found in this chunk.\n",
      "[DEBUG] Processing chunk (length: 349 chars)\n",
      "DEBUG ENABLED:  True\n",
      "--- Processing Chunk (length: 349 chars) ---\n",
      "--> Found partial decision tree.\n",
      "[DEBUG] Processing chunk (length: 1155 chars)\n",
      "DEBUG ENABLED:  True\n",
      "--- Processing Chunk (length: 1155 chars) ---\n",
      "--> Found partial decision tree.\n",
      "[DEBUG] Processing chunk (length: 408 chars)\n",
      "DEBUG ENABLED:  True\n",
      "--- Processing Chunk (length: 408 chars) ---\n",
      "--> No decision tree found in this chunk.\n",
      "[DEBUG] Processing chunk (length: 542 chars)\n",
      "DEBUG ENABLED:  True\n",
      "--- Processing Chunk (length: 542 chars) ---\n",
      "--> Found partial decision tree.\n",
      "[DEBUG] Processing chunk (length: 668 chars)\n",
      "DEBUG ENABLED:  True\n",
      "--- Processing Chunk (length: 668 chars) ---\n",
      "--> No decision tree found in this chunk.\n",
      "[DEBUG] Processing chunk (length: 1172 chars)\n",
      "DEBUG ENABLED:  True\n",
      "--- Processing Chunk (length: 1172 chars) ---\n",
      "--> No decision tree found in this chunk.\n",
      "[DEBUG] Processing chunk (length: 931 chars)\n",
      "DEBUG ENABLED:  True\n",
      "--- Processing Chunk (length: 931 chars) ---\n",
      "--> Found partial decision tree.\n",
      "[DEBUG] Processing chunk (length: 662 chars)\n",
      "DEBUG ENABLED:  True\n",
      "--- Processing Chunk (length: 662 chars) ---\n",
      "--> No decision tree found in this chunk.\n",
      "[DEBUG] Processing chunk (length: 226 chars)\n",
      "DEBUG ENABLED:  True\n",
      "--- Processing Chunk (length: 226 chars) ---\n",
      "--> No decision tree found in this chunk.\n",
      "[DEBUG] Processing chunk (length: 1139 chars)\n",
      "DEBUG ENABLED:  True\n",
      "--- Processing Chunk (length: 1139 chars) ---\n",
      "--> No decision tree found in this chunk.\n",
      "[DEBUG] Processing chunk (length: 1586 chars)\n",
      "DEBUG ENABLED:  True\n",
      "--- Processing Chunk (length: 1586 chars) ---\n",
      "--> Found partial decision tree.\n",
      "[DEBUG] Processing chunk (length: 883 chars)\n",
      "DEBUG ENABLED:  True\n",
      "--- Processing Chunk (length: 883 chars) ---\n",
      "--> No decision tree found in this chunk.\n",
      "[DEBUG] Processing chunk (length: 332 chars)\n",
      "DEBUG ENABLED:  True\n",
      "--- Processing Chunk (length: 332 chars) ---\n",
      "--> No decision tree found in this chunk.\n",
      "[DEBUG] Processing chunk (length: 2033 chars)\n",
      "DEBUG ENABLED:  True\n",
      "--- Processing Chunk (length: 2033 chars) ---\n",
      "--> Found partial decision tree.\n",
      "\n",
      "--- Synthesizing all partial trees ---\n",
      "\n",
      "\n",
      "--- FINAL MERGED DECISION TREE ---\n",
      "Outputed to local file for processing by a larger model.\n"
     ]
    },
    {
     "ename": "FileNotFoundError",
     "evalue": "[Errno 2] No such file or directory: 'decision_trees/Atrial Fibrillation with Heart Failure_tree.txt'",
     "output_type": "error",
     "traceback": [
      "\u001b[0;31m---------------------------------------------------------------------------\u001b[0m",
      "\u001b[0;31mFileNotFoundError\u001b[0m                         Traceback (most recent call last)",
      "Cell \u001b[0;32mIn[2], line 3\u001b[0m\n\u001b[1;32m      1\u001b[0m \u001b[38;5;28;01mfrom\u001b[39;00m\u001b[38;5;250m \u001b[39m\u001b[38;5;21;01mextraction\u001b[39;00m\u001b[38;5;21;01m.\u001b[39;00m\u001b[38;5;21;01mmain\u001b[39;00m\u001b[38;5;250m \u001b[39m\u001b[38;5;28;01mimport\u001b[39;00m main_single_article\n\u001b[0;32m----> 3\u001b[0m \u001b[43mmain_single_article\u001b[49m\u001b[43m(\u001b[49m\u001b[38;5;124;43m\"\u001b[39;49m\u001b[38;5;124;43mAtrial Fibrillation with Heart Failure\u001b[39;49m\u001b[38;5;124;43m\"\u001b[39;49m\u001b[43m,\u001b[49m\u001b[43m \u001b[49m\u001b[43mdebug\u001b[49m\u001b[38;5;241;43m=\u001b[39;49m\u001b[38;5;28;43;01mTrue\u001b[39;49;00m\u001b[43m)\u001b[49m\n",
      "File \u001b[0;32m~/SageMaker/decision_trees/extraction/main.py:48\u001b[0m, in \u001b[0;36mmain_single_article\u001b[0;34m(article_name, debug)\u001b[0m\n\u001b[1;32m     45\u001b[0m \u001b[38;5;28mprint\u001b[39m(\u001b[38;5;124m\"\u001b[39m\u001b[38;5;130;01m\\n\u001b[39;00m\u001b[38;5;130;01m\\n\u001b[39;00m\u001b[38;5;124m--- FINAL MERGED DECISION TREE ---\u001b[39m\u001b[38;5;124m\"\u001b[39m)\n\u001b[1;32m     46\u001b[0m \u001b[38;5;28mprint\u001b[39m(final_decision_tree)\n\u001b[0;32m---> 48\u001b[0m \u001b[43mwrite_decision_tree_to_file\u001b[49m\u001b[43m(\u001b[49m\u001b[43mfinal_decision_tree\u001b[49m\u001b[43m,\u001b[49m\u001b[43m \u001b[49m\u001b[38;5;124;43mf\u001b[39;49m\u001b[38;5;124;43m\"\u001b[39;49m\u001b[38;5;124;43mdecision_trees/\u001b[39;49m\u001b[38;5;132;43;01m{\u001b[39;49;00m\u001b[43marticle_name\u001b[49m\u001b[38;5;132;43;01m}\u001b[39;49;00m\u001b[38;5;124;43m_tree.txt\u001b[39;49m\u001b[38;5;124;43m\"\u001b[39;49m\u001b[43m)\u001b[49m\n",
      "File \u001b[0;32m~/SageMaker/decision_trees/extraction/main.py:9\u001b[0m, in \u001b[0;36mwrite_decision_tree_to_file\u001b[0;34m(decision_tree, file_path)\u001b[0m\n\u001b[1;32m      8\u001b[0m \u001b[38;5;28;01mdef\u001b[39;00m\u001b[38;5;250m \u001b[39m\u001b[38;5;21mwrite_decision_tree_to_file\u001b[39m(decision_tree, file_path):\n\u001b[0;32m----> 9\u001b[0m     \u001b[38;5;28;01mwith\u001b[39;00m \u001b[38;5;28;43mopen\u001b[39;49m\u001b[43m(\u001b[49m\u001b[43mfile_path\u001b[49m\u001b[43m,\u001b[49m\u001b[43m \u001b[49m\u001b[38;5;124;43m'\u001b[39;49m\u001b[38;5;124;43mw\u001b[39;49m\u001b[38;5;124;43m'\u001b[39;49m\u001b[43m)\u001b[49m \u001b[38;5;28;01mas\u001b[39;00m f:\n\u001b[1;32m     10\u001b[0m         f\u001b[38;5;241m.\u001b[39mwrite(decision_tree)\n",
      "\u001b[0;31mFileNotFoundError\u001b[0m: [Errno 2] No such file or directory: 'decision_trees/Atrial Fibrillation with Heart Failure_tree.txt'"
     ]
    }
   ],
   "source": [
    "from extraction.main import main_single_article\n",
    "\n",
    "main_single_article(\"Atrial Fibrillation with Heart Failure\", debug=True)"
   ]
  },
  {
   "cell_type": "code",
   "execution_count": null,
   "id": "c379bcfe-d848-4c52-a5df-86654b3c895e",
   "metadata": {},
   "outputs": [],
   "source": []
  }
 ],
 "metadata": {
  "kernelspec": {
   "display_name": "conda_python3",
   "language": "python",
   "name": "conda_python3"
  },
  "language_info": {
   "codemirror_mode": {
    "name": "ipython",
    "version": 3
   },
   "file_extension": ".py",
   "mimetype": "text/x-python",
   "name": "python",
   "nbconvert_exporter": "python",
   "pygments_lexer": "ipython3",
   "version": "3.10.18"
  }
 },
 "nbformat": 4,
 "nbformat_minor": 5
}
